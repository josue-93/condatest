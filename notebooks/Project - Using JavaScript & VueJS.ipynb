{
 "cells": [
  {
   "cell_type": "markdown",
   "metadata": {},
   "source": [
    "<div style=\"margin: 0px auto; width: 600px;\">\n",
    "<img src=\"http://www.canadastop100.com/national/images/ct2017_english.png\" style=\"float: left; height: 100px; margin-top: 10px;\"/>\n",
    "<img src=\"https://cdn4.iconfinder.com/data/icons/wirecons-free-vector-icons/32/add-128.png\" style=\"float: left; margin: 25px; height: 50px;\"/>\n",
    "<img src=\"https://freepythontips.files.wordpress.com/2013/07/python_logo_notext.png\" style=\"float: left; height: 100px;\"/>\n",
    "<img src=\"https://cdn4.iconfinder.com/data/icons/wirecons-free-vector-icons/32/add-128.png\" style=\"float: left; margin: 25px; height: 50px;\"/>\n",
    "<img src=\"https://vuejs.org/images/logo.png\" style=\"float: left; height: 100px; margin-top: 10px;\"/>\n",
    "</div>"
   ]
  },
  {
   "cell_type": "markdown",
   "metadata": {},
   "source": [
    "## Objectives\n",
    "* Generate data using webcrawling with requests from [Canada's Top 100](http://www.canadastop100.com).\n",
    "* Use of Scrapy\n",
    "* Use of Pandas\n",
    "* Integrate VueJS in a notebook\n",
    "* Create simple table with filter functionality"
   ]
  },
  {
   "cell_type": "markdown",
   "metadata": {},
   "source": [
    "## Scraping data\n",
    "### Approach\n",
    "To scrape the data, we will use the Scrapy library. Instead of writing our own scrapers, it is faster for this tutorial to simply use a proper library.\n",
    "\n",
    "1. Load the main page\n",
    "2. Find all company links\n",
    "3. For each company link, open the corresponding page\n",
    "4. For each company page, find all ratings\n",
    "\n",
    "### Markup for companies links\n",
    "```html\n",
    "<div id=\"winners\" class=\"page-section\">\n",
    "...\n",
    "  <li><span><a target=\"_blank\" href=\"http://content.eluta.ca/top-employer-3m-canada\">3M Canada Company</a></span></li>\n",
    "...\n",
    "</div>\n",
    "```\n",
    "This corresponds with the Python code from the CompanySpider class:\n",
    "```python\n",
    "for href in response.css('div#winners a::attr(href)').extract():\n",
    "```\n",
    "\n",
    "### Markup for ratings\n",
    "\n",
    "```html\n",
    "<h3 class=\"rating-row\">\n",
    "    <span class=\"nocolor\">Physical Workplace</span>\n",
    "    <span class=\"rating\">\n",
    "        <span class=\"score\" title=\"Great-West Life Assurance Company, The's physical workplace is rated as exceptional. \">A+</span>\n",
    "    </span>\n",
    "</h3>\n",
    "```"
   ]
  },
  {
   "cell_type": "code",
   "execution_count": 1,
   "metadata": {
    "collapsed": true
   },
   "outputs": [],
   "source": [
    "import logging\n",
    "import scrapy\n",
    "from scrapy.crawler import CrawlerProcess\n",
    "\n",
    "class CompanySpider(scrapy.Spider):\n",
    "    name = \"companies\"\n",
    "    start_urls = [\n",
    "        \"http://www.canadastop100.com/national/\"\n",
    "    ]\n",
    "    custom_settings = {\n",
    "        'LOG_LEVEL': logging.CRITICAL,\n",
    "        'FEED_FORMAT':'json',               \n",
    "        'FEED_URI': 'canadastop100.json' \n",
    "    }\n",
    "    \n",
    "    def parse(self, response):\n",
    "        for href in response.css('div#winners a::attr(href)').extract():\n",
    "            yield scrapy.Request(response.urljoin(href),\n",
    "                                 callback=self.parse_company)\n",
    "            \n",
    "    def parse_company(self, response):\n",
    "        name = response.css('div.side-panel-wrap div.widget h4::text').extract_first()\n",
    "        for rating in response.css('h3.rating-row')[1:]:\n",
    "            yield {\n",
    "                'name': name,\n",
    "                'title': rating.css('span.nocolor::text').extract_first(),\n",
    "                'value': rating.css('span.rating span.score::text').extract_first(),\n",
    "            }"
   ]
  },
  {
   "cell_type": "code",
   "execution_count": 2,
   "metadata": {
    "collapsed": true
   },
   "outputs": [],
   "source": [
    "rm canadastop100.json"
   ]
  },
  {
   "cell_type": "code",
   "execution_count": 3,
   "metadata": {
    "scrolled": true
   },
   "outputs": [
    {
     "name": "stderr",
     "output_type": "stream",
     "text": [
      "2017-10-11 21:15:26 [scrapy.utils.log] INFO: Scrapy 1.4.0 started (bot: scrapybot)\n",
      "2017-10-11 21:15:26 [scrapy.utils.log] INFO: Overridden settings: {'USER_AGENT': 'Mozilla/4.0 (compatible; MSIE 7.0; Windows NT 5.1)'}\n"
     ]
    }
   ],
   "source": [
    "process = CrawlerProcess({\n",
    "    'USER_AGENT': 'Mozilla/4.0 (compatible; MSIE 7.0; Windows NT 5.1)'\n",
    "})\n",
    "\n",
    "process.crawl(CompanySpider)\n",
    "process.start()"
   ]
  },
  {
   "cell_type": "markdown",
   "metadata": {},
   "source": [
    "## Preparing data"
   ]
  },
  {
   "cell_type": "code",
   "execution_count": 4,
   "metadata": {
    "collapsed": true
   },
   "outputs": [],
   "source": [
    "import pandas as pd"
   ]
  },
  {
   "cell_type": "code",
   "execution_count": 5,
   "metadata": {},
   "outputs": [
    {
     "data": {
      "text/html": [
       "<div>\n",
       "<style>\n",
       "    .dataframe thead tr:only-child th {\n",
       "        text-align: right;\n",
       "    }\n",
       "\n",
       "    .dataframe thead th {\n",
       "        text-align: left;\n",
       "    }\n",
       "\n",
       "    .dataframe tbody tr th {\n",
       "        vertical-align: top;\n",
       "    }\n",
       "</style>\n",
       "<table border=\"1\" class=\"dataframe\">\n",
       "  <thead>\n",
       "    <tr style=\"text-align: right;\">\n",
       "      <th></th>\n",
       "      <th>name</th>\n",
       "      <th>title</th>\n",
       "      <th>value</th>\n",
       "    </tr>\n",
       "  </thead>\n",
       "  <tbody>\n",
       "    <tr>\n",
       "      <th>0</th>\n",
       "      <td>Canadian Nuclear Laboratories Ltd.</td>\n",
       "      <td>Physical Workplace</td>\n",
       "      <td>A</td>\n",
       "    </tr>\n",
       "    <tr>\n",
       "      <th>1</th>\n",
       "      <td>Canadian Nuclear Laboratories Ltd.</td>\n",
       "      <td>Work Atmosphere &amp; Communications</td>\n",
       "      <td>B+</td>\n",
       "    </tr>\n",
       "    <tr>\n",
       "      <th>2</th>\n",
       "      <td>Canadian Nuclear Laboratories Ltd.</td>\n",
       "      <td>Financial Benefits &amp; Compensation</td>\n",
       "      <td>A</td>\n",
       "    </tr>\n",
       "    <tr>\n",
       "      <th>3</th>\n",
       "      <td>Canadian Nuclear Laboratories Ltd.</td>\n",
       "      <td>Health &amp; Family-Friendly Benefits</td>\n",
       "      <td>B+</td>\n",
       "    </tr>\n",
       "    <tr>\n",
       "      <th>4</th>\n",
       "      <td>Canadian Nuclear Laboratories Ltd.</td>\n",
       "      <td>Vacation &amp; Personal Time-Off</td>\n",
       "      <td>B</td>\n",
       "    </tr>\n",
       "  </tbody>\n",
       "</table>\n",
       "</div>"
      ],
      "text/plain": [
       "                                 name                              title value\n",
       "0  Canadian Nuclear Laboratories Ltd.                 Physical Workplace     A\n",
       "1  Canadian Nuclear Laboratories Ltd.   Work Atmosphere & Communications    B+\n",
       "2  Canadian Nuclear Laboratories Ltd.  Financial Benefits & Compensation     A\n",
       "3  Canadian Nuclear Laboratories Ltd.  Health & Family-Friendly Benefits    B+\n",
       "4  Canadian Nuclear Laboratories Ltd.       Vacation & Personal Time-Off     B"
      ]
     },
     "execution_count": 5,
     "metadata": {},
     "output_type": "execute_result"
    }
   ],
   "source": [
    "df = pd.read_json('canadastop100.json')\n",
    "df.head()"
   ]
  },
  {
   "cell_type": "code",
   "execution_count": 6,
   "metadata": {},
   "outputs": [
    {
     "data": {
      "text/plain": [
       "101"
      ]
     },
     "execution_count": 6,
     "metadata": {},
     "output_type": "execute_result"
    }
   ],
   "source": [
    "len(df['name'].unique())"
   ]
  },
  {
   "cell_type": "code",
   "execution_count": 7,
   "metadata": {
    "collapsed": true
   },
   "outputs": [],
   "source": [
    "df = df[df['title'].notnull()]"
   ]
  },
  {
   "cell_type": "code",
   "execution_count": 8,
   "metadata": {},
   "outputs": [
    {
     "data": {
      "text/plain": [
       "array(['A', 'B+', 'B', 'B-', 'A+', 'C+', 'A-'], dtype=object)"
      ]
     },
     "execution_count": 8,
     "metadata": {},
     "output_type": "execute_result"
    }
   ],
   "source": [
    "df['value'].unique()"
   ]
  },
  {
   "cell_type": "code",
   "execution_count": 9,
   "metadata": {
    "collapsed": true
   },
   "outputs": [],
   "source": [
    "mapping = {'A+': 10,\n",
    "           'A': 9,\n",
    "           'A-': 8,\n",
    "           'B+': 7,\n",
    "           'B': 6,\n",
    "           'B-': 5,\n",
    "           'C+': 4}"
   ]
  },
  {
   "cell_type": "code",
   "execution_count": 10,
   "metadata": {
    "collapsed": true
   },
   "outputs": [],
   "source": [
    "df['value'] = df['value'].map(mapping)"
   ]
  },
  {
   "cell_type": "code",
   "execution_count": 11,
   "metadata": {
    "collapsed": true
   },
   "outputs": [],
   "source": [
    "df = df.pivot(index='name', columns='title', values='value')"
   ]
  },
  {
   "cell_type": "code",
   "execution_count": 12,
   "metadata": {
    "collapsed": true
   },
   "outputs": [],
   "source": [
    "df['Total Score'] = df.sum(axis=1)"
   ]
  },
  {
   "cell_type": "code",
   "execution_count": 13,
   "metadata": {},
   "outputs": [
    {
     "data": {
      "text/html": [
       "<div>\n",
       "<style>\n",
       "    .dataframe thead tr:only-child th {\n",
       "        text-align: right;\n",
       "    }\n",
       "\n",
       "    .dataframe thead th {\n",
       "        text-align: left;\n",
       "    }\n",
       "\n",
       "    .dataframe tbody tr th {\n",
       "        vertical-align: top;\n",
       "    }\n",
       "</style>\n",
       "<table border=\"1\" class=\"dataframe\">\n",
       "  <thead>\n",
       "    <tr style=\"text-align: right;\">\n",
       "      <th>title</th>\n",
       "      <th>Community Involvement</th>\n",
       "      <th>Employee Engagement &amp; Performance</th>\n",
       "      <th>Financial Benefits &amp; Compensation</th>\n",
       "      <th>Health &amp; Family-Friendly Benefits</th>\n",
       "      <th>Physical Workplace</th>\n",
       "      <th>Training &amp; Skills Development</th>\n",
       "      <th>Vacation &amp; Personal Time-Off</th>\n",
       "      <th>Work Atmosphere &amp; Communications</th>\n",
       "      <th>Total Score</th>\n",
       "    </tr>\n",
       "    <tr>\n",
       "      <th>name</th>\n",
       "      <th></th>\n",
       "      <th></th>\n",
       "      <th></th>\n",
       "      <th></th>\n",
       "      <th></th>\n",
       "      <th></th>\n",
       "      <th></th>\n",
       "      <th></th>\n",
       "      <th></th>\n",
       "    </tr>\n",
       "  </thead>\n",
       "  <tbody>\n",
       "    <tr>\n",
       "      <th>3M Canada Company</th>\n",
       "      <td>10</td>\n",
       "      <td>7</td>\n",
       "      <td>9</td>\n",
       "      <td>9</td>\n",
       "      <td>10</td>\n",
       "      <td>9</td>\n",
       "      <td>6</td>\n",
       "      <td>10</td>\n",
       "      <td>70</td>\n",
       "    </tr>\n",
       "    <tr>\n",
       "      <th>Aboriginal Peoples Television Network Inc. / APTN</th>\n",
       "      <td>9</td>\n",
       "      <td>6</td>\n",
       "      <td>7</td>\n",
       "      <td>9</td>\n",
       "      <td>7</td>\n",
       "      <td>9</td>\n",
       "      <td>9</td>\n",
       "      <td>9</td>\n",
       "      <td>65</td>\n",
       "    </tr>\n",
       "    <tr>\n",
       "      <th>Accenture Inc.</th>\n",
       "      <td>10</td>\n",
       "      <td>9</td>\n",
       "      <td>7</td>\n",
       "      <td>9</td>\n",
       "      <td>7</td>\n",
       "      <td>7</td>\n",
       "      <td>6</td>\n",
       "      <td>9</td>\n",
       "      <td>64</td>\n",
       "    </tr>\n",
       "    <tr>\n",
       "      <th>Agrium Inc.</th>\n",
       "      <td>10</td>\n",
       "      <td>7</td>\n",
       "      <td>7</td>\n",
       "      <td>6</td>\n",
       "      <td>10</td>\n",
       "      <td>10</td>\n",
       "      <td>8</td>\n",
       "      <td>9</td>\n",
       "      <td>67</td>\n",
       "    </tr>\n",
       "    <tr>\n",
       "      <th>Air Canada</th>\n",
       "      <td>10</td>\n",
       "      <td>6</td>\n",
       "      <td>9</td>\n",
       "      <td>7</td>\n",
       "      <td>9</td>\n",
       "      <td>10</td>\n",
       "      <td>4</td>\n",
       "      <td>6</td>\n",
       "      <td>61</td>\n",
       "    </tr>\n",
       "  </tbody>\n",
       "</table>\n",
       "</div>"
      ],
      "text/plain": [
       "title                                              Community Involvement  \\\n",
       "name                                                                       \n",
       "3M Canada Company                                                     10   \n",
       "Aboriginal Peoples Television Network Inc. / APTN                      9   \n",
       "Accenture Inc.                                                        10   \n",
       "Agrium Inc.                                                           10   \n",
       "Air Canada                                                            10   \n",
       "\n",
       "title                                              Employee Engagement & Performance  \\\n",
       "name                                                                                   \n",
       "3M Canada Company                                                                  7   \n",
       "Aboriginal Peoples Television Network Inc. / APTN                                  6   \n",
       "Accenture Inc.                                                                     9   \n",
       "Agrium Inc.                                                                        7   \n",
       "Air Canada                                                                         6   \n",
       "\n",
       "title                                              Financial Benefits & Compensation  \\\n",
       "name                                                                                   \n",
       "3M Canada Company                                                                  9   \n",
       "Aboriginal Peoples Television Network Inc. / APTN                                  7   \n",
       "Accenture Inc.                                                                     7   \n",
       "Agrium Inc.                                                                        7   \n",
       "Air Canada                                                                         9   \n",
       "\n",
       "title                                              Health & Family-Friendly Benefits  \\\n",
       "name                                                                                   \n",
       "3M Canada Company                                                                  9   \n",
       "Aboriginal Peoples Television Network Inc. / APTN                                  9   \n",
       "Accenture Inc.                                                                     9   \n",
       "Agrium Inc.                                                                        6   \n",
       "Air Canada                                                                         7   \n",
       "\n",
       "title                                              Physical Workplace  \\\n",
       "name                                                                    \n",
       "3M Canada Company                                                  10   \n",
       "Aboriginal Peoples Television Network Inc. / APTN                   7   \n",
       "Accenture Inc.                                                      7   \n",
       "Agrium Inc.                                                        10   \n",
       "Air Canada                                                          9   \n",
       "\n",
       "title                                              Training & Skills Development  \\\n",
       "name                                                                               \n",
       "3M Canada Company                                                              9   \n",
       "Aboriginal Peoples Television Network Inc. / APTN                              9   \n",
       "Accenture Inc.                                                                 7   \n",
       "Agrium Inc.                                                                   10   \n",
       "Air Canada                                                                    10   \n",
       "\n",
       "title                                              Vacation & Personal Time-Off  \\\n",
       "name                                                                              \n",
       "3M Canada Company                                                             6   \n",
       "Aboriginal Peoples Television Network Inc. / APTN                             9   \n",
       "Accenture Inc.                                                                6   \n",
       "Agrium Inc.                                                                   8   \n",
       "Air Canada                                                                    4   \n",
       "\n",
       "title                                              Work Atmosphere & Communications  \\\n",
       "name                                                                                  \n",
       "3M Canada Company                                                                10   \n",
       "Aboriginal Peoples Television Network Inc. / APTN                                 9   \n",
       "Accenture Inc.                                                                    9   \n",
       "Agrium Inc.                                                                       9   \n",
       "Air Canada                                                                        6   \n",
       "\n",
       "title                                              Total Score  \n",
       "name                                                            \n",
       "3M Canada Company                                           70  \n",
       "Aboriginal Peoples Television Network Inc. / APTN           65  \n",
       "Accenture Inc.                                              64  \n",
       "Agrium Inc.                                                 67  \n",
       "Air Canada                                                  61  "
      ]
     },
     "execution_count": 13,
     "metadata": {},
     "output_type": "execute_result"
    }
   ],
   "source": [
    "df.head()"
   ]
  },
  {
   "cell_type": "code",
   "execution_count": 14,
   "metadata": {
    "collapsed": true
   },
   "outputs": [],
   "source": [
    "from IPython.display import HTML, Javascript, display"
   ]
  },
  {
   "cell_type": "code",
   "execution_count": 15,
   "metadata": {},
   "outputs": [
    {
     "data": {
      "application/javascript": [
       "\n",
       "           window.companyData=[{\"name\":\"3M Canada Company\",\"Community Involvement\":10,\"Employee Engagement & Performance\":7,\"Financial Benefits & Compensation\":9,\"Health & Family-Friendly Benefits\":9,\"Physical Workplace\":10,\"Training & Skills Development\":9,\"Vacation & Personal Time-Off\":6,\"Work Atmosphere & Communications\":10,\"Total Score\":70},{\"name\":\"Aboriginal Peoples Television Network Inc. \\/ APTN\",\"Community Involvement\":9,\"Employee Engagement & Performance\":6,\"Financial Benefits & Compensation\":7,\"Health & Family-Friendly Benefits\":9,\"Physical Workplace\":7,\"Training & Skills Development\":9,\"Vacation & Personal Time-Off\":9,\"Work Atmosphere & Communications\":9,\"Total Score\":65},{\"name\":\"Accenture Inc.\",\"Community Involvement\":10,\"Employee Engagement & Performance\":9,\"Financial Benefits & Compensation\":7,\"Health & Family-Friendly Benefits\":9,\"Physical Workplace\":7,\"Training & Skills Development\":7,\"Vacation & Personal Time-Off\":6,\"Work Atmosphere & Communications\":9,\"Total Score\":64},{\"name\":\"Agrium Inc.\",\"Community Involvement\":10,\"Employee Engagement & Performance\":7,\"Financial Benefits & Compensation\":7,\"Health & Family-Friendly Benefits\":6,\"Physical Workplace\":10,\"Training & Skills Development\":10,\"Vacation & Personal Time-Off\":8,\"Work Atmosphere & Communications\":9,\"Total Score\":67},{\"name\":\"Air Canada\",\"Community Involvement\":10,\"Employee Engagement & Performance\":6,\"Financial Benefits & Compensation\":9,\"Health & Family-Friendly Benefits\":7,\"Physical Workplace\":9,\"Training & Skills Development\":10,\"Vacation & Personal Time-Off\":4,\"Work Atmosphere & Communications\":6,\"Total Score\":61},{\"name\":\"Alberta-Pacific Forest Industries Inc.\",\"Community Involvement\":9,\"Employee Engagement & Performance\":9,\"Financial Benefits & Compensation\":10,\"Health & Family-Friendly Benefits\":9,\"Physical Workplace\":10,\"Training & Skills Development\":10,\"Vacation & Personal Time-Off\":10,\"Work Atmosphere & Communications\":10,\"Total Score\":77},{\"name\":\"ArcelorMittal Dofasco G.P.\",\"Community Involvement\":10,\"Employee Engagement & Performance\":7,\"Financial Benefits & Compensation\":7,\"Health & Family-Friendly Benefits\":7,\"Physical Workplace\":10,\"Training & Skills Development\":10,\"Vacation & Personal Time-Off\":5,\"Work Atmosphere & Communications\":10,\"Total Score\":66},{\"name\":\"BASF Canada Inc.\",\"Community Involvement\":9,\"Employee Engagement & Performance\":7,\"Financial Benefits & Compensation\":7,\"Health & Family-Friendly Benefits\":9,\"Physical Workplace\":7,\"Training & Skills Development\":7,\"Vacation & Personal Time-Off\":5,\"Work Atmosphere & Communications\":9,\"Total Score\":60},{\"name\":\"BC Public Service\",\"Community Involvement\":10,\"Employee Engagement & Performance\":9,\"Financial Benefits & Compensation\":9,\"Health & Family-Friendly Benefits\":7,\"Physical Workplace\":9,\"Training & Skills Development\":7,\"Vacation & Personal Time-Off\":6,\"Work Atmosphere & Communications\":7,\"Total Score\":64},{\"name\":\"BDC \\/ Business Development Bank of Canada\",\"Community Involvement\":9,\"Employee Engagement & Performance\":7,\"Financial Benefits & Compensation\":9,\"Health & Family-Friendly Benefits\":7,\"Physical Workplace\":7,\"Training & Skills Development\":9,\"Vacation & Personal Time-Off\":7,\"Work Atmosphere & Communications\":7,\"Total Score\":62},{\"name\":\"Bank of Canada\",\"Community Involvement\":9,\"Employee Engagement & Performance\":7,\"Financial Benefits & Compensation\":9,\"Health & Family-Friendly Benefits\":9,\"Physical Workplace\":10,\"Training & Skills Development\":10,\"Vacation & Personal Time-Off\":7,\"Work Atmosphere & Communications\":10,\"Total Score\":71},{\"name\":\"Bayer\",\"Community Involvement\":10,\"Employee Engagement & Performance\":10,\"Financial Benefits & Compensation\":9,\"Health & Family-Friendly Benefits\":9,\"Physical Workplace\":10,\"Training & Skills Development\":9,\"Vacation & Personal Time-Off\":7,\"Work Atmosphere & Communications\":10,\"Total Score\":74},{\"name\":\"Bell Canada\",\"Community Involvement\":10,\"Employee Engagement & Performance\":9,\"Financial Benefits & Compensation\":9,\"Health & Family-Friendly Benefits\":6,\"Physical Workplace\":10,\"Training & Skills Development\":9,\"Vacation & Personal Time-Off\":6,\"Work Atmosphere & Communications\":9,\"Total Score\":68},{\"name\":\"CBCL Limited\",\"Community Involvement\":9,\"Employee Engagement & Performance\":6,\"Financial Benefits & Compensation\":7,\"Health & Family-Friendly Benefits\":7,\"Physical Workplace\":6,\"Training & Skills Development\":7,\"Vacation & Personal Time-Off\":5,\"Work Atmosphere & Communications\":9,\"Total Score\":56},{\"name\":\"CIBC\",\"Community Involvement\":10,\"Employee Engagement & Performance\":10,\"Financial Benefits & Compensation\":10,\"Health & Family-Friendly Benefits\":7,\"Physical Workplace\":7,\"Training & Skills Development\":10,\"Vacation & Personal Time-Off\":6,\"Work Atmosphere & Communications\":10,\"Total Score\":70},{\"name\":\"Cameco Corporation\",\"Community Involvement\":10,\"Employee Engagement & Performance\":9,\"Financial Benefits & Compensation\":7,\"Health & Family-Friendly Benefits\":7,\"Physical Workplace\":6,\"Training & Skills Development\":10,\"Vacation & Personal Time-Off\":6,\"Work Atmosphere & Communications\":7,\"Total Score\":62},{\"name\":\"Canadian Heritage\",\"Community Involvement\":7,\"Employee Engagement & Performance\":6,\"Financial Benefits & Compensation\":9,\"Health & Family-Friendly Benefits\":10,\"Physical Workplace\":9,\"Training & Skills Development\":10,\"Vacation & Personal Time-Off\":6,\"Work Atmosphere & Communications\":6,\"Total Score\":63},{\"name\":\"Canadian National Railway Company \\/ CN\",\"Community Involvement\":10,\"Employee Engagement & Performance\":9,\"Financial Benefits & Compensation\":7,\"Health & Family-Friendly Benefits\":7,\"Physical Workplace\":9,\"Training & Skills Development\":7,\"Vacation & Personal Time-Off\":5,\"Work Atmosphere & Communications\":7,\"Total Score\":61},{\"name\":\"Canadian Nuclear Laboratories Ltd.\",\"Community Involvement\":6,\"Employee Engagement & Performance\":5,\"Financial Benefits & Compensation\":9,\"Health & Family-Friendly Benefits\":7,\"Physical Workplace\":9,\"Training & Skills Development\":9,\"Vacation & Personal Time-Off\":6,\"Work Atmosphere & Communications\":7,\"Total Score\":58},{\"name\":\"Canadian Security Intelligence Service \\/ CSIS\",\"Community Involvement\":7,\"Employee Engagement & Performance\":7,\"Financial Benefits & Compensation\":9,\"Health & Family-Friendly Benefits\":10,\"Physical Workplace\":10,\"Training & Skills Development\":10,\"Vacation & Personal Time-Off\":7,\"Work Atmosphere & Communications\":7,\"Total Score\":67},{\"name\":\"Canadian Tire Corporation Limited\",\"Community Involvement\":10,\"Employee Engagement & Performance\":9,\"Financial Benefits & Compensation\":9,\"Health & Family-Friendly Benefits\":7,\"Physical Workplace\":9,\"Training & Skills Development\":10,\"Vacation & Personal Time-Off\":6,\"Work Atmosphere & Communications\":10,\"Total Score\":70},{\"name\":\"Cargill Limited\",\"Community Involvement\":9,\"Employee Engagement & Performance\":9,\"Financial Benefits & Compensation\":6,\"Health & Family-Friendly Benefits\":6,\"Physical Workplace\":9,\"Training & Skills Development\":10,\"Vacation & Personal Time-Off\":5,\"Work Atmosphere & Communications\":7,\"Total Score\":61},{\"name\":\"Catholic Children's Aid Society of Toronto\",\"Community Involvement\":9,\"Employee Engagement & Performance\":7,\"Financial Benefits & Compensation\":9,\"Health & Family-Friendly Benefits\":9,\"Physical Workplace\":6,\"Training & Skills Development\":6,\"Vacation & Personal Time-Off\":10,\"Work Atmosphere & Communications\":7,\"Total Score\":63},{\"name\":\"Ceridian HCM Inc.\",\"Community Involvement\":10,\"Employee Engagement & Performance\":9,\"Financial Benefits & Compensation\":6,\"Health & Family-Friendly Benefits\":7,\"Physical Workplace\":7,\"Training & Skills Development\":9,\"Vacation & Personal Time-Off\":6,\"Work Atmosphere & Communications\":9,\"Total Score\":63},{\"name\":\"Cisco Systems Canada Co.\",\"Community Involvement\":10,\"Employee Engagement & Performance\":6,\"Financial Benefits & Compensation\":7,\"Health & Family-Friendly Benefits\":6,\"Physical Workplace\":9,\"Training & Skills Development\":9,\"Vacation & Personal Time-Off\":9,\"Work Atmosphere & Communications\":9,\"Total Score\":65},{\"name\":\"College of Physicians and Surgeons of British Columbia, The\",\"Community Involvement\":7,\"Employee Engagement & Performance\":7,\"Financial Benefits & Compensation\":9,\"Health & Family-Friendly Benefits\":9,\"Physical Workplace\":10,\"Training & Skills Development\":7,\"Vacation & Personal Time-Off\":6,\"Work Atmosphere & Communications\":9,\"Total Score\":64},{\"name\":\"Corus Entertainment Inc.\",\"Community Involvement\":10,\"Employee Engagement & Performance\":7,\"Financial Benefits & Compensation\":9,\"Health & Family-Friendly Benefits\":7,\"Physical Workplace\":9,\"Training & Skills Development\":9,\"Vacation & Personal Time-Off\":5,\"Work Atmosphere & Communications\":9,\"Total Score\":65},{\"name\":\"Desjardins Group \\/ Mouvement des caisses Desjardins\",\"Community Involvement\":9,\"Employee Engagement & Performance\":9,\"Financial Benefits & Compensation\":9,\"Health & Family-Friendly Benefits\":9,\"Physical Workplace\":9,\"Training & Skills Development\":9,\"Vacation & Personal Time-Off\":7,\"Work Atmosphere & Communications\":7,\"Total Score\":68},{\"name\":\"Diamond Schmitt Architects Inc.\",\"Community Involvement\":9,\"Employee Engagement & Performance\":9,\"Financial Benefits & Compensation\":6,\"Health & Family-Friendly Benefits\":7,\"Physical Workplace\":7,\"Training & Skills Development\":7,\"Vacation & Personal Time-Off\":7,\"Work Atmosphere & Communications\":9,\"Total Score\":61},{\"name\":\"Digital Extremes Ltd.\",\"Community Involvement\":7,\"Employee Engagement & Performance\":7,\"Financial Benefits & Compensation\":7,\"Health & Family-Friendly Benefits\":6,\"Physical Workplace\":10,\"Training & Skills Development\":10,\"Vacation & Personal Time-Off\":7,\"Work Atmosphere & Communications\":10,\"Total Score\":64},{\"name\":\"ESIT Advanced Solutions Inc.\",\"Community Involvement\":9,\"Employee Engagement & Performance\":9,\"Financial Benefits & Compensation\":10,\"Health & Family-Friendly Benefits\":9,\"Physical Workplace\":10,\"Training & Skills Development\":6,\"Vacation & Personal Time-Off\":6,\"Work Atmosphere & Communications\":9,\"Total Score\":68},{\"name\":\"EllisDon Corporation\",\"Community Involvement\":10,\"Employee Engagement & Performance\":7,\"Financial Benefits & Compensation\":10,\"Health & Family-Friendly Benefits\":6,\"Physical Workplace\":10,\"Training & Skills Development\":7,\"Vacation & Personal Time-Off\":6,\"Work Atmosphere & Communications\":7,\"Total Score\":63},{\"name\":\"Enbridge Inc.\",\"Community Involvement\":10,\"Employee Engagement & Performance\":7,\"Financial Benefits & Compensation\":9,\"Health & Family-Friendly Benefits\":7,\"Physical Workplace\":7,\"Training & Skills Development\":10,\"Vacation & Personal Time-Off\":7,\"Work Atmosphere & Communications\":7,\"Total Score\":64},{\"name\":\"Export Development Canada\",\"Community Involvement\":9,\"Employee Engagement & Performance\":9,\"Financial Benefits & Compensation\":7,\"Health & Family-Friendly Benefits\":9,\"Physical Workplace\":9,\"Training & Skills Development\":9,\"Vacation & Personal Time-Off\":7,\"Work Atmosphere & Communications\":7,\"Total Score\":66},{\"name\":\"Fidelity Canada\",\"Community Involvement\":10,\"Employee Engagement & Performance\":10,\"Financial Benefits & Compensation\":7,\"Health & Family-Friendly Benefits\":6,\"Physical Workplace\":9,\"Training & Skills Development\":9,\"Vacation & Personal Time-Off\":7,\"Work Atmosphere & Communications\":9,\"Total Score\":67},{\"name\":\"Ford Motor Company of Canada, Limited\",\"Community Involvement\":9,\"Employee Engagement & Performance\":6,\"Financial Benefits & Compensation\":7,\"Health & Family-Friendly Benefits\":7,\"Physical Workplace\":9,\"Training & Skills Development\":7,\"Vacation & Personal Time-Off\":6,\"Work Atmosphere & Communications\":7,\"Total Score\":58},{\"name\":\"General Electric Canada \\/ GE\",\"Community Involvement\":10,\"Employee Engagement & Performance\":9,\"Financial Benefits & Compensation\":7,\"Health & Family-Friendly Benefits\":7,\"Physical Workplace\":9,\"Training & Skills Development\":10,\"Vacation & Personal Time-Off\":6,\"Work Atmosphere & Communications\":7,\"Total Score\":65},{\"name\":\"Goldcorp Inc.\",\"Community Involvement\":7,\"Employee Engagement & Performance\":6,\"Financial Benefits & Compensation\":7,\"Health & Family-Friendly Benefits\":6,\"Physical Workplace\":6,\"Training & Skills Development\":7,\"Vacation & Personal Time-Off\":5,\"Work Atmosphere & Communications\":7,\"Total Score\":51},{\"name\":\"Graham Group\",\"Community Involvement\":9,\"Employee Engagement & Performance\":7,\"Financial Benefits & Compensation\":9,\"Health & Family-Friendly Benefits\":6,\"Physical Workplace\":9,\"Training & Skills Development\":9,\"Vacation & Personal Time-Off\":6,\"Work Atmosphere & Communications\":9,\"Total Score\":64},{\"name\":\"Great-West Life Assurance Company, The\",\"Community Involvement\":9,\"Employee Engagement & Performance\":9,\"Financial Benefits & Compensation\":7,\"Health & Family-Friendly Benefits\":7,\"Physical Workplace\":10,\"Training & Skills Development\":10,\"Vacation & Personal Time-Off\":5,\"Work Atmosphere & Communications\":9,\"Total Score\":66},{\"name\":\"Hatch Ltd.\",\"Community Involvement\":6,\"Employee Engagement & Performance\":7,\"Financial Benefits & Compensation\":9,\"Health & Family-Friendly Benefits\":7,\"Physical Workplace\":10,\"Training & Skills Development\":6,\"Vacation & Personal Time-Off\":7,\"Work Atmosphere & Communications\":9,\"Total Score\":61},{\"name\":\"Hospital for Sick Children, The\",\"Community Involvement\":9,\"Employee Engagement & Performance\":7,\"Financial Benefits & Compensation\":9,\"Health & Family-Friendly Benefits\":9,\"Physical Workplace\":9,\"Training & Skills Development\":7,\"Vacation & Personal Time-Off\":6,\"Work Atmosphere & Communications\":7,\"Total Score\":63},{\"name\":\"IMAX Corporation\",\"Community Involvement\":9,\"Employee Engagement & Performance\":9,\"Financial Benefits & Compensation\":7,\"Health & Family-Friendly Benefits\":7,\"Physical Workplace\":7,\"Training & Skills Development\":9,\"Vacation & Personal Time-Off\":7,\"Work Atmosphere & Communications\":9,\"Total Score\":64},{\"name\":\"ISM Canada\",\"Community Involvement\":9,\"Employee Engagement & Performance\":6,\"Financial Benefits & Compensation\":9,\"Health & Family-Friendly Benefits\":9,\"Physical Workplace\":7,\"Training & Skills Development\":10,\"Vacation & Personal Time-Off\":7,\"Work Atmosphere & Communications\":9,\"Total Score\":66},{\"name\":\"Intact Financial Corporation\",\"Community Involvement\":10,\"Employee Engagement & Performance\":10,\"Financial Benefits & Compensation\":9,\"Health & Family-Friendly Benefits\":7,\"Physical Workplace\":9,\"Training & Skills Development\":7,\"Vacation & Personal Time-Off\":6,\"Work Atmosphere & Communications\":9,\"Total Score\":67},{\"name\":\"Irving Oil\",\"Community Involvement\":9,\"Employee Engagement & Performance\":7,\"Financial Benefits & Compensation\":6,\"Health & Family-Friendly Benefits\":9,\"Physical Workplace\":9,\"Training & Skills Development\":9,\"Vacation & Personal Time-Off\":6,\"Work Atmosphere & Communications\":7,\"Total Score\":62},{\"name\":\"Ivanho\\u00e9 Cambridge Inc.\",\"Community Involvement\":10,\"Employee Engagement & Performance\":9,\"Financial Benefits & Compensation\":7,\"Health & Family-Friendly Benefits\":9,\"Physical Workplace\":10,\"Training & Skills Development\":9,\"Vacation & Personal Time-Off\":7,\"Work Atmosphere & Communications\":9,\"Total Score\":70},{\"name\":\"KPMG LLP\",\"Community Involvement\":10,\"Employee Engagement & Performance\":9,\"Financial Benefits & Compensation\":9,\"Health & Family-Friendly Benefits\":9,\"Physical Workplace\":9,\"Training & Skills Development\":10,\"Vacation & Personal Time-Off\":9,\"Work Atmosphere & Communications\":10,\"Total Score\":75},{\"name\":\"L'Or\\u00e9al Canada Inc.\",\"Community Involvement\":9,\"Employee Engagement & Performance\":9,\"Financial Benefits & Compensation\":9,\"Health & Family-Friendly Benefits\":7,\"Physical Workplace\":9,\"Training & Skills Development\":10,\"Vacation & Personal Time-Off\":6,\"Work Atmosphere & Communications\":9,\"Total Score\":68},{\"name\":\"Labatt Brewing Company Limited\",\"Community Involvement\":9,\"Employee Engagement & Performance\":10,\"Financial Benefits & Compensation\":7,\"Health & Family-Friendly Benefits\":7,\"Physical Workplace\":10,\"Training & Skills Development\":7,\"Vacation & Personal Time-Off\":5,\"Work Atmosphere & Communications\":9,\"Total Score\":64},{\"name\":\"Loblaw Companies Limited\",\"Community Involvement\":10,\"Employee Engagement & Performance\":9,\"Financial Benefits & Compensation\":9,\"Health & Family-Friendly Benefits\":9,\"Physical Workplace\":10,\"Training & Skills Development\":10,\"Vacation & Personal Time-Off\":5,\"Work Atmosphere & Communications\":10,\"Total Score\":72},{\"name\":\"Manitoba Hydro\",\"Community Involvement\":9,\"Employee Engagement & Performance\":6,\"Financial Benefits & Compensation\":9,\"Health & Family-Friendly Benefits\":7,\"Physical Workplace\":9,\"Training & Skills Development\":9,\"Vacation & Personal Time-Off\":7,\"Work Atmosphere & Communications\":10,\"Total Score\":66},{\"name\":\"Mars Incorporated\",\"Community Involvement\":10,\"Employee Engagement & Performance\":9,\"Financial Benefits & Compensation\":6,\"Health & Family-Friendly Benefits\":7,\"Physical Workplace\":10,\"Training & Skills Development\":9,\"Vacation & Personal Time-Off\":6,\"Work Atmosphere & Communications\":9,\"Total Score\":66},{\"name\":\"McCarthy T\\u00e9trault LLP\",\"Community Involvement\":10,\"Employee Engagement & Performance\":9,\"Financial Benefits & Compensation\":6,\"Health & Family-Friendly Benefits\":7,\"Physical Workplace\":9,\"Training & Skills Development\":9,\"Vacation & Personal Time-Off\":7,\"Work Atmosphere & Communications\":9,\"Total Score\":66},{\"name\":\"Medavie Blue Cross\",\"Community Involvement\":10,\"Employee Engagement & Performance\":7,\"Financial Benefits & Compensation\":6,\"Health & Family-Friendly Benefits\":7,\"Physical Workplace\":7,\"Training & Skills Development\":6,\"Vacation & Personal Time-Off\":5,\"Work Atmosphere & Communications\":7,\"Total Score\":55},{\"name\":\"Mosaic Company, The\",\"Community Involvement\":10,\"Employee Engagement & Performance\":7,\"Financial Benefits & Compensation\":7,\"Health & Family-Friendly Benefits\":6,\"Physical Workplace\":7,\"Training & Skills Development\":9,\"Vacation & Personal Time-Off\":6,\"Work Atmosphere & Communications\":7,\"Total Score\":59},{\"name\":\"NAV CANADA\",\"Community Involvement\":7,\"Employee Engagement & Performance\":6,\"Financial Benefits & Compensation\":9,\"Health & Family-Friendly Benefits\":6,\"Physical Workplace\":9,\"Training & Skills Development\":7,\"Vacation & Personal Time-Off\":6,\"Work Atmosphere & Communications\":9,\"Total Score\":59},{\"name\":\"National Energy Board\",\"Community Involvement\":7,\"Employee Engagement & Performance\":7,\"Financial Benefits & Compensation\":9,\"Health & Family-Friendly Benefits\":10,\"Physical Workplace\":9,\"Training & Skills Development\":10,\"Vacation & Personal Time-Off\":7,\"Work Atmosphere & Communications\":9,\"Total Score\":68},{\"name\":\"National Leasing Group Inc.\",\"Community Involvement\":9,\"Employee Engagement & Performance\":10,\"Financial Benefits & Compensation\":7,\"Health & Family-Friendly Benefits\":7,\"Physical Workplace\":9,\"Training & Skills Development\":9,\"Vacation & Personal Time-Off\":7,\"Work Atmosphere & Communications\":9,\"Total Score\":67},{\"name\":\"Nature's Path Foods, Inc.\",\"Community Involvement\":10,\"Employee Engagement & Performance\":7,\"Financial Benefits & Compensation\":6,\"Health & Family-Friendly Benefits\":6,\"Physical Workplace\":9,\"Training & Skills Development\":7,\"Vacation & Personal Time-Off\":6,\"Work Atmosphere & Communications\":10,\"Total Score\":61},{\"name\":\"Norton Rose Fulbright Canada LLP\",\"Community Involvement\":9,\"Employee Engagement & Performance\":9,\"Financial Benefits & Compensation\":6,\"Health & Family-Friendly Benefits\":6,\"Physical Workplace\":6,\"Training & Skills Development\":7,\"Vacation & Personal Time-Off\":9,\"Work Atmosphere & Communications\":9,\"Total Score\":61},{\"name\":\"Nuance Communications Canada Inc.\",\"Community Involvement\":6,\"Employee Engagement & Performance\":7,\"Financial Benefits & Compensation\":7,\"Health & Family-Friendly Benefits\":6,\"Physical Workplace\":7,\"Training & Skills Development\":7,\"Vacation & Personal Time-Off\":9,\"Work Atmosphere & Communications\":9,\"Total Score\":58},{\"name\":\"Ontario Public Service \\/ OPS\",\"Community Involvement\":7,\"Employee Engagement & Performance\":7,\"Financial Benefits & Compensation\":9,\"Health & Family-Friendly Benefits\":10,\"Physical Workplace\":7,\"Training & Skills Development\":7,\"Vacation & Personal Time-Off\":7,\"Work Atmosphere & Communications\":7,\"Total Score\":61},{\"name\":\"OpenText Corporation\",\"Community Involvement\":9,\"Employee Engagement & Performance\":7,\"Financial Benefits & Compensation\":7,\"Health & Family-Friendly Benefits\":7,\"Physical Workplace\":9,\"Training & Skills Development\":10,\"Vacation & Personal Time-Off\":7,\"Work Atmosphere & Communications\":10,\"Total Score\":66},{\"name\":\"PCL Constructors Inc.\",\"Community Involvement\":10,\"Employee Engagement & Performance\":7,\"Financial Benefits & Compensation\":9,\"Health & Family-Friendly Benefits\":7,\"Physical Workplace\":10,\"Training & Skills Development\":10,\"Vacation & Personal Time-Off\":6,\"Work Atmosphere & Communications\":9,\"Total Score\":68},{\"name\":\"PepsiCo Canada\",\"Community Involvement\":10,\"Employee Engagement & Performance\":9,\"Financial Benefits & Compensation\":9,\"Health & Family-Friendly Benefits\":7,\"Physical Workplace\":9,\"Training & Skills Development\":10,\"Vacation & Personal Time-Off\":6,\"Work Atmosphere & Communications\":9,\"Total Score\":69},{\"name\":\"Procter & Gamble Inc.\",\"Community Involvement\":9,\"Employee Engagement & Performance\":6,\"Financial Benefits & Compensation\":7,\"Health & Family-Friendly Benefits\":9,\"Physical Workplace\":10,\"Training & Skills Development\":10,\"Vacation & Personal Time-Off\":7,\"Work Atmosphere & Communications\":9,\"Total Score\":67},{\"name\":\"Provincial Health Services Authority \\/ PHSA\",\"Community Involvement\":7,\"Employee Engagement & Performance\":7,\"Financial Benefits & Compensation\":9,\"Health & Family-Friendly Benefits\":7,\"Physical Workplace\":9,\"Training & Skills Development\":9,\"Vacation & Personal Time-Off\":10,\"Work Atmosphere & Communications\":7,\"Total Score\":65},{\"name\":\"R.F. Binnie & Associates Ltd.\",\"Community Involvement\":7,\"Employee Engagement & Performance\":7,\"Financial Benefits & Compensation\":7,\"Health & Family-Friendly Benefits\":7,\"Physical Workplace\":7,\"Training & Skills Development\":7,\"Vacation & Personal Time-Off\":5,\"Work Atmosphere & Communications\":9,\"Total Score\":56},{\"name\":\"Raymond James Ltd.\",\"Community Involvement\":10,\"Employee Engagement & Performance\":7,\"Financial Benefits & Compensation\":7,\"Health & Family-Friendly Benefits\":6,\"Physical Workplace\":6,\"Training & Skills Development\":9,\"Vacation & Personal Time-Off\":6,\"Work Atmosphere & Communications\":7,\"Total Score\":58},{\"name\":\"Rogers Communications Inc.\",\"Community Involvement\":10,\"Employee Engagement & Performance\":9,\"Financial Benefits & Compensation\":9,\"Health & Family-Friendly Benefits\":7,\"Physical Workplace\":10,\"Training & Skills Development\":9,\"Vacation & Personal Time-Off\":5,\"Work Atmosphere & Communications\":9,\"Total Score\":68},{\"name\":\"Royal Bank of Canada\",\"Community Involvement\":10,\"Employee Engagement & Performance\":9,\"Financial Benefits & Compensation\":10,\"Health & Family-Friendly Benefits\":7,\"Physical Workplace\":9,\"Training & Skills Development\":9,\"Vacation & Personal Time-Off\":6,\"Work Atmosphere & Communications\":9,\"Total Score\":69},{\"name\":\"SAP Canada Inc.\",\"Community Involvement\":9,\"Employee Engagement & Performance\":10,\"Financial Benefits & Compensation\":9,\"Health & Family-Friendly Benefits\":6,\"Physical Workplace\":9,\"Training & Skills Development\":9,\"Vacation & Personal Time-Off\":7,\"Work Atmosphere & Communications\":9,\"Total Score\":68},{\"name\":\"Salesforce Canada Corporation\",\"Community Involvement\":10,\"Employee Engagement & Performance\":9,\"Financial Benefits & Compensation\":7,\"Health & Family-Friendly Benefits\":7,\"Physical Workplace\":9,\"Training & Skills Development\":9,\"Vacation & Personal Time-Off\":9,\"Work Atmosphere & Communications\":7,\"Total Score\":67},{\"name\":\"Samsung Electronics Canada Inc.\",\"Community Involvement\":10,\"Employee Engagement & Performance\":7,\"Financial Benefits & Compensation\":7,\"Health & Family-Friendly Benefits\":7,\"Physical Workplace\":10,\"Training & Skills Development\":10,\"Vacation & Personal Time-Off\":7,\"Work Atmosphere & Communications\":9,\"Total Score\":67},{\"name\":\"Sandoz Canada Inc.\",\"Community Involvement\":7,\"Employee Engagement & Performance\":9,\"Financial Benefits & Compensation\":7,\"Health & Family-Friendly Benefits\":6,\"Physical Workplace\":7,\"Training & Skills Development\":9,\"Vacation & Personal Time-Off\":7,\"Work Atmosphere & Communications\":9,\"Total Score\":61},{\"name\":\"Saskatchewan Government Insurance \\/ SGI\",\"Community Involvement\":9,\"Employee Engagement & Performance\":6,\"Financial Benefits & Compensation\":7,\"Health & Family-Friendly Benefits\":9,\"Physical Workplace\":7,\"Training & Skills Development\":10,\"Vacation & Personal Time-Off\":6,\"Work Atmosphere & Communications\":9,\"Total Score\":63},{\"name\":\"Saskatchewan Research Council \\/ SRC\",\"Community Involvement\":6,\"Employee Engagement & Performance\":9,\"Financial Benefits & Compensation\":7,\"Health & Family-Friendly Benefits\":7,\"Physical Workplace\":10,\"Training & Skills Development\":6,\"Vacation & Personal Time-Off\":9,\"Work Atmosphere & Communications\":7,\"Total Score\":61},{\"name\":\"Shaw Communications Inc.\",\"Community Involvement\":9,\"Employee Engagement & Performance\":7,\"Financial Benefits & Compensation\":7,\"Health & Family-Friendly Benefits\":9,\"Physical Workplace\":9,\"Training & Skills Development\":7,\"Vacation & Personal Time-Off\":6,\"Work Atmosphere & Communications\":9,\"Total Score\":63},{\"name\":\"Shell Canada Limited\",\"Community Involvement\":10,\"Employee Engagement & Performance\":9,\"Financial Benefits & Compensation\":10,\"Health & Family-Friendly Benefits\":7,\"Physical Workplace\":10,\"Training & Skills Development\":6,\"Vacation & Personal Time-Off\":9,\"Work Atmosphere & Communications\":9,\"Total Score\":70},{\"name\":\"Siemens Canada Limited\",\"Community Involvement\":10,\"Employee Engagement & Performance\":9,\"Financial Benefits & Compensation\":9,\"Health & Family-Friendly Benefits\":6,\"Physical Workplace\":9,\"Training & Skills Development\":9,\"Vacation & Personal Time-Off\":7,\"Work Atmosphere & Communications\":7,\"Total Score\":66},{\"name\":\"Simon Fraser University\",\"Community Involvement\":7,\"Employee Engagement & Performance\":7,\"Financial Benefits & Compensation\":9,\"Health & Family-Friendly Benefits\":10,\"Physical Workplace\":10,\"Training & Skills Development\":10,\"Vacation & Personal Time-Off\":9,\"Work Atmosphere & Communications\":9,\"Total Score\":71},{\"name\":\"Stryker Canada Inc.\",\"Community Involvement\":10,\"Employee Engagement & Performance\":10,\"Financial Benefits & Compensation\":7,\"Health & Family-Friendly Benefits\":9,\"Physical Workplace\":9,\"Training & Skills Development\":8,\"Vacation & Personal Time-Off\":6,\"Work Atmosphere & Communications\":7,\"Total Score\":66},{\"name\":\"Sunnybrook Health Sciences Centre\",\"Community Involvement\":9,\"Employee Engagement & Performance\":6,\"Financial Benefits & Compensation\":9,\"Health & Family-Friendly Benefits\":9,\"Physical Workplace\":10,\"Training & Skills Development\":10,\"Vacation & Personal Time-Off\":10,\"Work Atmosphere & Communications\":9,\"Total Score\":72},{\"name\":\"TD Bank Group\",\"Community Involvement\":10,\"Employee Engagement & Performance\":10,\"Financial Benefits & Compensation\":10,\"Health & Family-Friendly Benefits\":9,\"Physical Workplace\":7,\"Training & Skills Development\":10,\"Vacation & Personal Time-Off\":7,\"Work Atmosphere & Communications\":10,\"Total Score\":73},{\"name\":\"TELUS Corporation\",\"Community Involvement\":10,\"Employee Engagement & Performance\":9,\"Financial Benefits & Compensation\":9,\"Health & Family-Friendly Benefits\":7,\"Physical Workplace\":10,\"Training & Skills Development\":10,\"Vacation & Personal Time-Off\":7,\"Work Atmosphere & Communications\":7,\"Total Score\":69},{\"name\":\"Thomson Reuters Canada Limited\",\"Community Involvement\":10,\"Employee Engagement & Performance\":7,\"Financial Benefits & Compensation\":9,\"Health & Family-Friendly Benefits\":7,\"Physical Workplace\":7,\"Training & Skills Development\":10,\"Vacation & Personal Time-Off\":7,\"Work Atmosphere & Communications\":7,\"Total Score\":64},{\"name\":\"Toronto International Film Festival Inc. \\/ TIFF\",\"Community Involvement\":7,\"Employee Engagement & Performance\":7,\"Financial Benefits & Compensation\":6,\"Health & Family-Friendly Benefits\":9,\"Physical Workplace\":9,\"Training & Skills Development\":7,\"Vacation & Personal Time-Off\":6,\"Work Atmosphere & Communications\":9,\"Total Score\":60},{\"name\":\"Toronto, City of\",\"Community Involvement\":7,\"Employee Engagement & Performance\":7,\"Financial Benefits & Compensation\":9,\"Health & Family-Friendly Benefits\":9,\"Physical Workplace\":10,\"Training & Skills Development\":9,\"Vacation & Personal Time-Off\":6,\"Work Atmosphere & Communications\":7,\"Total Score\":64},{\"name\":\"Toyota Motor Manufacturing Canada Inc. \\/ TMMC\",\"Community Involvement\":10,\"Employee Engagement & Performance\":9,\"Financial Benefits & Compensation\":7,\"Health & Family-Friendly Benefits\":9,\"Physical Workplace\":10,\"Training & Skills Development\":10,\"Vacation & Personal Time-Off\":10,\"Work Atmosphere & Communications\":9,\"Total Score\":74},{\"name\":\"Treasury Board of Canada Secretariat\",\"Community Involvement\":7,\"Employee Engagement & Performance\":6,\"Financial Benefits & Compensation\":9,\"Health & Family-Friendly Benefits\":9,\"Physical Workplace\":6,\"Training & Skills Development\":7,\"Vacation & Personal Time-Off\":6,\"Work Atmosphere & Communications\":6,\"Total Score\":56},{\"name\":\"Ubisoft Toronto Inc.\",\"Community Involvement\":9,\"Employee Engagement & Performance\":6,\"Financial Benefits & Compensation\":7,\"Health & Family-Friendly Benefits\":7,\"Physical Workplace\":10,\"Training & Skills Development\":7,\"Vacation & Personal Time-Off\":5,\"Work Atmosphere & Communications\":10,\"Total Score\":61},{\"name\":\"Union Gas Limited\",\"Community Involvement\":10,\"Employee Engagement & Performance\":10,\"Financial Benefits & Compensation\":10,\"Health & Family-Friendly Benefits\":7,\"Physical Workplace\":7,\"Training & Skills Development\":10,\"Vacation & Personal Time-Off\":5,\"Work Atmosphere & Communications\":9,\"Total Score\":68},{\"name\":\"University of New Brunswick \\/ UNB\",\"Community Involvement\":7,\"Employee Engagement & Performance\":7,\"Financial Benefits & Compensation\":9,\"Health & Family-Friendly Benefits\":9,\"Physical Workplace\":10,\"Training & Skills Development\":10,\"Vacation & Personal Time-Off\":6,\"Work Atmosphere & Communications\":9,\"Total Score\":67},{\"name\":\"University of Toronto\",\"Community Involvement\":9,\"Employee Engagement & Performance\":7,\"Financial Benefits & Compensation\":9,\"Health & Family-Friendly Benefits\":9,\"Physical Workplace\":10,\"Training & Skills Development\":9,\"Vacation & Personal Time-Off\":7,\"Work Atmosphere & Communications\":7,\"Total Score\":67},{\"name\":\"University of Waterloo\",\"Community Involvement\":6,\"Employee Engagement & Performance\":7,\"Financial Benefits & Compensation\":9,\"Health & Family-Friendly Benefits\":9,\"Physical Workplace\":10,\"Training & Skills Development\":9,\"Vacation & Personal Time-Off\":7,\"Work Atmosphere & Communications\":7,\"Total Score\":64},{\"name\":\"Verafin Inc.\",\"Community Involvement\":9,\"Employee Engagement & Performance\":10,\"Financial Benefits & Compensation\":7,\"Health & Family-Friendly Benefits\":9,\"Physical Workplace\":7,\"Training & Skills Development\":9,\"Vacation & Personal Time-Off\":10,\"Work Atmosphere & Communications\":9,\"Total Score\":70},{\"name\":\"West Fraser Timber Co. Ltd.\",\"Community Involvement\":7,\"Employee Engagement & Performance\":6,\"Financial Benefits & Compensation\":9,\"Health & Family-Friendly Benefits\":6,\"Physical Workplace\":9,\"Training & Skills Development\":7,\"Vacation & Personal Time-Off\":6,\"Work Atmosphere & Communications\":6,\"Total Score\":56},{\"name\":\"World Vision Canada\",\"Community Involvement\":10,\"Employee Engagement & Performance\":7,\"Financial Benefits & Compensation\":7,\"Health & Family-Friendly Benefits\":9,\"Physical Workplace\":7,\"Training & Skills Development\":9,\"Vacation & Personal Time-Off\":7,\"Work Atmosphere & Communications\":7,\"Total Score\":63},{\"name\":\"Yukon, Government of\",\"Community Involvement\":7,\"Employee Engagement & Performance\":6,\"Financial Benefits & Compensation\":9,\"Health & Family-Friendly Benefits\":10,\"Physical Workplace\":6,\"Training & Skills Development\":7,\"Vacation & Personal Time-Off\":10,\"Work Atmosphere & Communications\":7,\"Total Score\":62}];\n",
       "           "
      ],
      "text/plain": [
       "<IPython.core.display.Javascript object>"
      ]
     },
     "execution_count": 15,
     "metadata": {},
     "output_type": "execute_result"
    }
   ],
   "source": [
    "Javascript(\"\"\"\n",
    "           window.companyData={};\n",
    "           \"\"\".format(df.reset_index().to_json(orient='records')))"
   ]
  },
  {
   "cell_type": "code",
   "execution_count": 16,
   "metadata": {
    "collapsed": true
   },
   "outputs": [],
   "source": [
    "# Write to JSON file on disk\n",
    "# df.reset_index().to_json('canadastop100.json', orient='records')"
   ]
  },
  {
   "cell_type": "markdown",
   "metadata": {},
   "source": [
    "## Visualizing data"
   ]
  },
  {
   "cell_type": "markdown",
   "metadata": {},
   "source": [
    "VueJS can be included https://cdnjs.cloudflare.com/ajax/libs/vue/2.4.0/vue. This notebook will make use of the example of the [grid-component](https://vuejs.org/v2/examples/grid-component.html) from the official documentation to create a table representing the crawled data."
   ]
  },
  {
   "cell_type": "code",
   "execution_count": 17,
   "metadata": {},
   "outputs": [
    {
     "data": {
      "application/javascript": [
       "require.config({\n",
       "    paths: {\n",
       "        vue: \"https://cdnjs.cloudflare.com/ajax/libs/vue/2.4.0/vue\"\n",
       "    }\n",
       "});"
      ],
      "text/plain": [
       "<IPython.core.display.Javascript object>"
      ]
     },
     "metadata": {},
     "output_type": "display_data"
    }
   ],
   "source": [
    "%%javascript\n",
    "require.config({\n",
    "    paths: {\n",
    "        vue: \"https://cdnjs.cloudflare.com/ajax/libs/vue/2.4.0/vue\"\n",
    "    }\n",
    "});"
   ]
  },
  {
   "cell_type": "code",
   "execution_count": 18,
   "metadata": {},
   "outputs": [
    {
     "data": {
      "text/html": [
       "<script type=\"text/x-template\" id=\"data-template\">\n",
       "  <table class=\"canada\">\n",
       "    <thead>\n",
       "      <tr>\n",
       "        <th v-for=\"key in columns\"\n",
       "          @click=\"sortBy(key)\"\n",
       "          :class=\"{ active: sortKey == key }\">\n",
       "          {{ key | capitalize }}\n",
       "          <span class=\"arrow\" :class=\"sortOrders[key] > 0 ? 'asc' : 'dsc'\">\n",
       "          </span>\n",
       "        </th>\n",
       "      </tr>\n",
       "    </thead>\n",
       "    <tbody>\n",
       "      <tr v-for=\"entry in filteredData\">\n",
       "        <td v-for=\"key in columns\">\n",
       "          {{entry[key]}}\n",
       "        </td>\n",
       "      </tr>\n",
       "    </tbody>\n",
       "  </table>\n",
       "</script>"
      ],
      "text/plain": [
       "<IPython.core.display.HTML object>"
      ]
     },
     "metadata": {},
     "output_type": "display_data"
    }
   ],
   "source": [
    "%%html\n",
    "<script type=\"text/x-template\" id=\"data-template\">\n",
    "  <table class=\"canada\">\n",
    "    <thead>\n",
    "      <tr>\n",
    "        <th v-for=\"key in columns\"\n",
    "          @click=\"sortBy(key)\"\n",
    "          :class=\"{ active: sortKey == key }\">\n",
    "          {{ key | capitalize }}\n",
    "          <span class=\"arrow\" :class=\"sortOrders[key] > 0 ? 'asc' : 'dsc'\">\n",
    "          </span>\n",
    "        </th>\n",
    "      </tr>\n",
    "    </thead>\n",
    "    <tbody>\n",
    "      <tr v-for=\"entry in filteredData\">\n",
    "        <td v-for=\"key in columns\">\n",
    "          {{entry[key]}}\n",
    "        </td>\n",
    "      </tr>\n",
    "    </tbody>\n",
    "  </table>\n",
    "</script>"
   ]
  },
  {
   "cell_type": "code",
   "execution_count": 19,
   "metadata": {},
   "outputs": [
    {
     "data": {
      "text/html": [
       "<div id=\"vue-app\">\n",
       "  <form id=\"search\">\n",
       "    Search <input name=\"query\" v-model=\"searchQuery\">\n",
       "  </form>\n",
       "  <data-grid\n",
       "    :data=\"gridData\"\n",
       "    :columns=\"gridColumns\"\n",
       "    :filter-key=\"searchQuery\">\n",
       "  </data-grid>\n",
       "</div>"
      ],
      "text/plain": [
       "<IPython.core.display.HTML object>"
      ]
     },
     "metadata": {},
     "output_type": "display_data"
    }
   ],
   "source": [
    "%%html\n",
    "<div id=\"vue-app\">\n",
    "  <form id=\"search\">\n",
    "    Search <input name=\"query\" v-model=\"searchQuery\">\n",
    "  </form>\n",
    "  <data-grid\n",
    "    :data=\"gridData\"\n",
    "    :columns=\"gridColumns\"\n",
    "    :filter-key=\"searchQuery\">\n",
    "  </data-grid>\n",
    "</div>"
   ]
  },
  {
   "cell_type": "code",
   "execution_count": 20,
   "metadata": {},
   "outputs": [
    {
     "data": {
      "application/javascript": [
       "require(['vue'], function(Vue) {\n",
       "    console.log(Vue.version);\n",
       "    var companyData = window.companyData;\n",
       "    console.log(JSON.stringify(companyData));\n",
       "    Vue.component('data-grid', {\n",
       "      template: '#data-template',\n",
       "      props: {\n",
       "        data: Array,\n",
       "        columns: Array,\n",
       "        filterKey: String\n",
       "      },\n",
       "      data: function () {\n",
       "        var sortOrders = {}\n",
       "        this.columns.forEach(function (key) {\n",
       "          sortOrders[key] = 1\n",
       "        })\n",
       "        return {\n",
       "          sortKey: '',\n",
       "          sortOrders: sortOrders\n",
       "        }\n",
       "      },\n",
       "      computed: {\n",
       "        filteredData: function () {\n",
       "          var sortKey = this.sortKey\n",
       "          var filterKey = this.filterKey && this.filterKey.toLowerCase()\n",
       "          var order = this.sortOrders[sortKey] || 1\n",
       "          var data = this.data\n",
       "          if (filterKey) {\n",
       "            data = data.filter(function (row) {\n",
       "              return Object.keys(row).some(function (key) {\n",
       "                return String(row[key]).toLowerCase().indexOf(filterKey) > -1\n",
       "              })\n",
       "            })\n",
       "          }\n",
       "          if (sortKey) {\n",
       "            data = data.slice().sort(function (a, b) {\n",
       "              a = a[sortKey]\n",
       "              b = b[sortKey]\n",
       "              return (a === b ? 0 : a > b ? 1 : -1) * order\n",
       "            })\n",
       "          }\n",
       "          return data\n",
       "        }\n",
       "      },\n",
       "      filters: {\n",
       "        capitalize: function (str) {\n",
       "          return str.charAt(0).toUpperCase() + str.slice(1)\n",
       "        }\n",
       "      },\n",
       "      methods: {\n",
       "        sortBy: function (key) {\n",
       "          this.sortKey = key\n",
       "          this.sortOrders[key] = this.sortOrders[key] * -1\n",
       "        }\n",
       "      }\n",
       "    })\n",
       "\n",
       "    var vueApp = new Vue({\n",
       "      el: '#vue-app',\n",
       "      data: {\n",
       "        searchQuery: '',\n",
       "        gridColumns: Object.keys(companyData[0]),\n",
       "        gridData: companyData\n",
       "      }\n",
       "    })\n",
       "  \n",
       "});"
      ],
      "text/plain": [
       "<IPython.core.display.Javascript object>"
      ]
     },
     "metadata": {},
     "output_type": "display_data"
    }
   ],
   "source": [
    "%%javascript\n",
    "require(['vue'], function(Vue) {\n",
    "    console.log(Vue.version);\n",
    "    var companyData = window.companyData;\n",
    "    console.log(JSON.stringify(companyData));\n",
    "    Vue.component('data-grid', {\n",
    "      template: '#data-template',\n",
    "      props: {\n",
    "        data: Array,\n",
    "        columns: Array,\n",
    "        filterKey: String\n",
    "      },\n",
    "      data: function () {\n",
    "        var sortOrders = {}\n",
    "        this.columns.forEach(function (key) {\n",
    "          sortOrders[key] = 1\n",
    "        })\n",
    "        return {\n",
    "          sortKey: '',\n",
    "          sortOrders: sortOrders\n",
    "        }\n",
    "      },\n",
    "      computed: {\n",
    "        filteredData: function () {\n",
    "          var sortKey = this.sortKey\n",
    "          var filterKey = this.filterKey && this.filterKey.toLowerCase()\n",
    "          var order = this.sortOrders[sortKey] || 1\n",
    "          var data = this.data\n",
    "          if (filterKey) {\n",
    "            data = data.filter(function (row) {\n",
    "              return Object.keys(row).some(function (key) {\n",
    "                return String(row[key]).toLowerCase().indexOf(filterKey) > -1\n",
    "              })\n",
    "            })\n",
    "          }\n",
    "          if (sortKey) {\n",
    "            data = data.slice().sort(function (a, b) {\n",
    "              a = a[sortKey]\n",
    "              b = b[sortKey]\n",
    "              return (a === b ? 0 : a > b ? 1 : -1) * order\n",
    "            })\n",
    "          }\n",
    "          return data\n",
    "        }\n",
    "      },\n",
    "      filters: {\n",
    "        capitalize: function (str) {\n",
    "          return str.charAt(0).toUpperCase() + str.slice(1)\n",
    "        }\n",
    "      },\n",
    "      methods: {\n",
    "        sortBy: function (key) {\n",
    "          this.sortKey = key\n",
    "          this.sortOrders[key] = this.sortOrders[key] * -1\n",
    "        }\n",
    "      }\n",
    "    })\n",
    "\n",
    "    var vueApp = new Vue({\n",
    "      el: '#vue-app',\n",
    "      data: {\n",
    "        searchQuery: '',\n",
    "        gridColumns: Object.keys(companyData[0]),\n",
    "        gridData: companyData\n",
    "      }\n",
    "    })\n",
    "  \n",
    "});"
   ]
  },
  {
   "cell_type": "code",
   "execution_count": 21,
   "metadata": {},
   "outputs": [
    {
     "data": {
      "text/html": [
       "<style>\n",
       "table.canada {\n",
       "  border: 2px solid rgb(102, 153, 255);\n",
       "  border-radius: 3px;\n",
       "  background-color: #fff;\n",
       "}\n",
       "\n",
       "table.canada th {\n",
       "  background-color: rgb(102, 153, 255);\n",
       "  color: rgba(255,255,255,0.66);\n",
       "  cursor: pointer;\n",
       "  -webkit-user-select: none;\n",
       "  -moz-user-select: none;\n",
       "  -ms-user-select: none;\n",
       "  user-select: none;\n",
       "}\n",
       "\n",
       "table.canada td {\n",
       "  background-color: #f9f9f9;\n",
       "}\n",
       "\n",
       "table.canada th, table.canada td {\n",
       "  min-width: 120px;\n",
       "  padding: 10px 20px;\n",
       "}\n",
       "\n",
       "table.canada th.active {\n",
       "  color: #fff;\n",
       "}\n",
       "\n",
       "table.canada th.active .arrow {\n",
       "  opacity: 1;\n",
       "}\n",
       "\n",
       ".arrow {\n",
       "  display: inline-block;\n",
       "  vertical-align: middle;\n",
       "  width: 0;\n",
       "  height: 0;\n",
       "  margin-left: 5px;\n",
       "  opacity: 0.66;\n",
       "}\n",
       "\n",
       ".arrow.asc {\n",
       "  border-left: 4px solid transparent;\n",
       "  border-right: 4px solid transparent;\n",
       "  border-bottom: 4px solid #fff;\n",
       "}\n",
       "\n",
       ".arrow.dsc {\n",
       "  border-left: 4px solid transparent;\n",
       "  border-right: 4px solid transparent;\n",
       "  border-top: 4px solid #fff;\n",
       "}\n",
       "</style>"
      ],
      "text/plain": [
       "<IPython.core.display.HTML object>"
      ]
     },
     "metadata": {},
     "output_type": "display_data"
    }
   ],
   "source": [
    "%%html\n",
    "<style>\n",
    "table.canada {\n",
    "  border: 2px solid rgb(102, 153, 255);\n",
    "  border-radius: 3px;\n",
    "  background-color: #fff;\n",
    "}\n",
    "\n",
    "table.canada th {\n",
    "  background-color: rgb(102, 153, 255);\n",
    "  color: rgba(255,255,255,0.66);\n",
    "  cursor: pointer;\n",
    "  -webkit-user-select: none;\n",
    "  -moz-user-select: none;\n",
    "  -ms-user-select: none;\n",
    "  user-select: none;\n",
    "}\n",
    "\n",
    "table.canada td {\n",
    "  background-color: #f9f9f9;\n",
    "}\n",
    "\n",
    "table.canada th, table.canada td {\n",
    "  min-width: 120px;\n",
    "  padding: 10px 20px;\n",
    "}\n",
    "\n",
    "table.canada th.active {\n",
    "  color: #fff;\n",
    "}\n",
    "\n",
    "table.canada th.active .arrow {\n",
    "  opacity: 1;\n",
    "}\n",
    "\n",
    ".arrow {\n",
    "  display: inline-block;\n",
    "  vertical-align: middle;\n",
    "  width: 0;\n",
    "  height: 0;\n",
    "  margin-left: 5px;\n",
    "  opacity: 0.66;\n",
    "}\n",
    "\n",
    ".arrow.asc {\n",
    "  border-left: 4px solid transparent;\n",
    "  border-right: 4px solid transparent;\n",
    "  border-bottom: 4px solid #fff;\n",
    "}\n",
    "\n",
    ".arrow.dsc {\n",
    "  border-left: 4px solid transparent;\n",
    "  border-right: 4px solid transparent;\n",
    "  border-top: 4px solid #fff;\n",
    "}\n",
    "</style>"
   ]
  },
  {
   "cell_type": "markdown",
   "metadata": {
    "collapsed": true
   },
   "source": [
    "https://jsfiddle.net/jitsejan/rxxjhgf6"
   ]
  }
 ],
 "metadata": {
  "kernelspec": {
   "display_name": "Python 3",
   "language": "python",
   "name": "python3"
  },
  "language_info": {
   "codemirror_mode": {
    "name": "ipython",
    "version": 3
   },
   "file_extension": ".py",
   "mimetype": "text/x-python",
   "name": "python",
   "nbconvert_exporter": "python",
   "pygments_lexer": "ipython3",
   "version": "3.6.1"
  }
 },
 "nbformat": 4,
 "nbformat_minor": 2
}
